{
 "cells": [
  {
   "cell_type": "markdown",
   "metadata": {},
   "source": [
    "# introduktion til Jupyter Markdown"
   ]
  },
  {
   "cell_type": "markdown",
   "metadata": {},
   "source": [
    "Herunder vil der komme det mest anvendte Markdowns til python, som er en måde at markere\n",
    "Man kna lave noget \"kursiv\". Det er også muligt at lae det **fed** og ***fedt og kursiv***\n"
   ]
  },
  {
   "cell_type": "markdown",
   "metadata": {},
   "source": [
    "## Python for noobs"
   ]
  },
  {
   "cell_type": "markdown",
   "metadata": {},
   "source": [
    "### Variabler\n",
    "I python er der ingen {} der er heller ingen ;. Det hele er baseret på linjeskift og indryk. Det har både nogen fordele, men også nogle ulemper.Det er vigtigt at folde sig for øje at det nøjaftige antal \"mellemrum/spaces\" på det såkaldte scope. Mere om det senere\n",
    "\n",
    "Yderligere kræver Python ikke en specifikkation af datatype til variabler\n"
   ]
  },
  {
   "cell_type": "code",
   "execution_count": 18,
   "metadata": {},
   "outputs": [],
   "source": [
    "#Variabl der indeholder Heltal aka integere på engelsk (int)\n",
    "a = 4 \n",
    "hest = 2\n",
    "mor = 10\n",
    "\n",
    "#Men ingen æøå eller special tegn\n",
    "\n",
    "pølse = 5 #not working\n",
    "\n",
    "#Kald den noget foreståeligt, som er brugbart og ligetil\n",
    "antal_hjul = 4\n",
    "health = 100\n",
    "ammo = 30\n",
    "speed = 100\n",
    "\n",
    "\n",
    "#Variabl der indeholder kommatal kaldes float på engelsk (float)\n",
    "b = 2.5\n",
    "\n",
    "#Variabel der indeholder tekst som kaldes string på engelsk\n",
    "c = \"Hej\"\n",
    "\n",
    "#Variabel som indeholder boolske værdier dvs sandt, falsk på engelsk bool/boolean\n",
    "d = False\n",
    "\n",
    "\n",
    "#Pas på der ikke bliver lavet rod i det\n",
    "#d er en pladsholder som først bliver baseret som en bool, men bliver lavet om til en string\n",
    "#d = \"Hej igen\"\n",
    "\n",
    "\n",
    "\n"
   ]
  },
  {
   "cell_type": "code",
   "execution_count": 19,
   "metadata": {},
   "outputs": [
    {
     "name": "stdout",
     "output_type": "stream",
     "text": [
      "4\n"
     ]
    }
   ],
   "source": [
    "# For at undersøge hvad vi har eller hvad der gemmer sig i de forskellige værdier, skal man anvende funktionen \"print\"\n",
    "print(a)\n"
   ]
  },
  {
   "cell_type": "code",
   "execution_count": 20,
   "metadata": {},
   "outputs": [
    {
     "name": "stdout",
     "output_type": "stream",
     "text": [
      "<class 'int'>\n",
      "<class 'float'>\n",
      "<class 'str'>\n",
      "<class 'bool'>\n"
     ]
    }
   ],
   "source": [
    "# Ofte har vi brug for at se præcist hvilken type hvad en variabel er, vi kan nu anvende funktionen \"type\"\n",
    "print(type(a))\n",
    "print(type(b))\n",
    "print(type(c))\n",
    "print(type(d))\n"
   ]
  },
  {
   "cell_type": "code",
   "execution_count": null,
   "metadata": {},
   "outputs": [],
   "source": []
  },
  {
   "cell_type": "code",
   "execution_count": null,
   "metadata": {},
   "outputs": [],
   "source": []
  }
 ],
 "metadata": {
  "kernelspec": {
   "display_name": "Python 3",
   "language": "python",
   "name": "python3"
  },
  "language_info": {
   "codemirror_mode": {
    "name": "ipython",
    "version": 3
   },
   "file_extension": ".py",
   "mimetype": "text/x-python",
   "name": "python",
   "nbconvert_exporter": "python",
   "pygments_lexer": "ipython3",
   "version": "3.7.1"
  }
 },
 "nbformat": 4,
 "nbformat_minor": 2
}
