{
 "cells": [
  {
   "cell_type": "markdown",
   "metadata": {},
   "source": [
    "# introduktion til Jupyter Markdown"
   ]
  },
  {
   "cell_type": "markdown",
   "metadata": {},
   "source": [
    "Herunder vil der komme det mest anvendte Markdowns til python, som er en måde at markere\n",
    "Man kna lave noget \"kursiv\". Det er også muligt at lae det **fed** og ***fedt og kursiv***\n"
   ]
  },
  {
   "cell_type": "markdown",
   "metadata": {},
   "source": [
    "## Python for noobs"
   ]
  },
  {
   "cell_type": "markdown",
   "metadata": {},
   "source": [
    "### Variabler\n",
    "I python er der ingen {} der er heller ingen ;. Det hele er baseret på linjeskift og indryk. Det har både nogen fordele, men også nogle ulemper.Det er vigtigt at folde sig for øje at det nøjaftige antal \"mellemrum/spaces\" på det såkaldte scope. Mere om det senere\n",
    "\n",
    "Yderligere kræver Python ikke en specifikkation af datatype til variabler\n"
   ]
  },
  {
   "cell_type": "code",
   "execution_count": 18,
   "metadata": {},
   "outputs": [],
   "source": [
    "#Variabl der indeholder Heltal aka integere på engelsk (int)\n",
    "a = 4 \n",
    "hest = 2\n",
    "mor = 10\n",
    "\n",
    "#Men ingen æøå eller special tegn\n",
    "\n",
    "pølse = 5 #not working\n",
    "\n",
    "#Kald den noget foreståeligt, som er brugbart og ligetil\n",
    "antal_hjul = 4\n",
    "health = 100\n",
    "ammo = 30\n",
    "speed = 100\n",
    "\n",
    "\n",
    "#Variabl der indeholder kommatal kaldes float på engelsk (float)\n",
    "b = 2.5\n",
    "\n",
    "#Variabel der indeholder tekst som kaldes string på engelsk\n",
    "c = \"Hej\"\n",
    "\n",
    "#Variabel som indeholder boolske værdier dvs sandt, falsk på engelsk bool/boolean\n",
    "d = False\n",
    "\n",
    "\n",
    "#Pas på der ikke bliver lavet rod i det\n",
    "#d er en pladsholder som først bliver baseret som en bool, men bliver lavet om til en string\n",
    "#d = \"Hej igen\"\n",
    "\n",
    "\n",
    "\n"
   ]
  },
  {
   "cell_type": "code",
   "execution_count": 19,
   "metadata": {},
   "outputs": [
    {
     "name": "stdout",
     "output_type": "stream",
     "text": [
      "4\n"
     ]
    }
   ],
   "source": [
    "# For at undersøge hvad vi har eller hvad der gemmer sig i de forskellige værdier, skal man anvende funktionen \"print\"\n",
    "print(a)\n"
   ]
  },
  {
   "cell_type": "code",
   "execution_count": 20,
   "metadata": {},
   "outputs": [
    {
     "name": "stdout",
     "output_type": "stream",
     "text": [
      "<class 'int'>\n",
      "<class 'float'>\n",
      "<class 'str'>\n",
      "<class 'bool'>\n"
     ]
    }
   ],
   "source": [
    "# Ofte har vi brug for at se præcist hvilken type hvad en variabel er, vi kan nu anvende funktionen \"type\"\n",
    "print(type(a))\n",
    "print(type(b))\n",
    "print(type(c))\n",
    "print(type(d))\n"
   ]
  },
  {
   "cell_type": "markdown",
   "metadata": {},
   "source": [
    "## Kontrolstruktur"
   ]
  },
  {
   "cell_type": "code",
   "execution_count": 41,
   "metadata": {},
   "outputs": [
    {
     "name": "stdout",
     "output_type": "stream",
     "text": [
      "You are really low on health\n",
      "You are under 100 armor\n"
     ]
    }
   ],
   "source": [
    "health = 9\n",
    "armor = 38\n",
    "if health == 100:\n",
    "    print(\"You are okay\")\n",
    "    \n",
    "elif health <= 0:\n",
    "    print(\"You are dead!\")\n",
    "\n",
    "elif health <= 10:\n",
    "    print(\"You are really low on health\")\n",
    "\n",
    "elif health <= 100:\n",
    "    print(\"You are under 100 health\")\n",
    "    \n",
    "    \n",
    "if armor == 100:\n",
    "    print(\"You are armor\")\n",
    "    \n",
    "elif armor <= 0:\n",
    "    print(\"You have no armor!\")\n",
    "\n",
    "elif armor <= 10:\n",
    "    print(\"You are really low on armor\")\n",
    "\n",
    "elif armor <= 100:\n",
    "    print(\"You are under 100 armor\")\n",
    "\n",
    "    \n"
   ]
  },
  {
   "cell_type": "code",
   "execution_count": 42,
   "metadata": {},
   "outputs": [
    {
     "name": "stdout",
     "output_type": "stream",
     "text": [
      "Skriv noget vås: jyu\n"
     ]
    }
   ],
   "source": [
    "playerinput = input(\"Skriv noget vås: \")"
   ]
  },
  {
   "cell_type": "code",
   "execution_count": 51,
   "metadata": {},
   "outputs": [
    {
     "ename": "SyntaxError",
     "evalue": "invalid syntax (<ipython-input-51-6feccd36b3a8>, line 12)",
     "output_type": "error",
     "traceback": [
      "\u001b[1;36m  File \u001b[1;32m\"<ipython-input-51-6feccd36b3a8>\"\u001b[1;36m, line \u001b[1;32m12\u001b[0m\n\u001b[1;33m    else:\u001b[0m\n\u001b[1;37m       ^\u001b[0m\n\u001b[1;31mSyntaxError\u001b[0m\u001b[1;31m:\u001b[0m invalid syntax\n"
     ]
    }
   ],
   "source": [
    "state = 0\n",
    "if state == \"0\":\n",
    "    print(\"Det var en mørk og stormfuld aften...\")\n",
    "    print(\"Bank bank... Det bankede hårdt på døren\")\n",
    "    valg = input(\"Vil du åbne døren? j/n\")\n",
    "    \n",
    "    if valg == \"j\" or valg == \"J\":\n",
    "        state = 1\n",
    "    \n",
    "if state == 1:\n",
    "    print(\"Fuck ja det er pizzamanden. Du får 100 ekstra i liv:\")\n",
    "    \n",
    "else: \n",
    "        print(\"Der kommer ingen de næste 100 dage. Du dør\")"
   ]
  },
  {
   "cell_type": "code",
   "execution_count": null,
   "metadata": {},
   "outputs": [],
   "source": []
  },
  {
   "cell_type": "code",
   "execution_count": null,
   "metadata": {},
   "outputs": [],
   "source": []
  },
  {
   "cell_type": "code",
   "execution_count": null,
   "metadata": {},
   "outputs": [],
   "source": []
  }
 ],
 "metadata": {
  "kernelspec": {
   "display_name": "Python 3",
   "language": "python",
   "name": "python3"
  },
  "language_info": {
   "codemirror_mode": {
    "name": "ipython",
    "version": 3
   },
   "file_extension": ".py",
   "mimetype": "text/x-python",
   "name": "python",
   "nbconvert_exporter": "python",
   "pygments_lexer": "ipython3",
   "version": "3.7.1"
  }
 },
 "nbformat": 4,
 "nbformat_minor": 2
}
